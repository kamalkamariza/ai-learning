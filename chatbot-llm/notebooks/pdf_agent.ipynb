{
 "cells": [
  {
   "cell_type": "code",
   "execution_count": 139,
   "metadata": {},
   "outputs": [],
   "source": [
    "import os\n",
    "from glob import glob\n",
    "from tqdm import tqdm\n",
    "from langchain import hub\n",
    "from dotenv import load_dotenv\n",
    "from langchain_community.vectorstores import FAISS\n",
    "from langchain.retrievers import EnsembleRetriever\n",
    "from langchain_community.retrievers import BM25Retriever\n",
    "from langchain_openai import ChatOpenAI, OpenAIEmbeddings\n",
    "from langchain.tools.retriever import create_retriever_tool\n",
    "from langchain.agents import AgentExecutor, create_react_agent\n",
    "from langchain_community.document_loaders import PDFMinerLoader\n",
    "from langchain_text_splitters import RecursiveCharacterTextSplitter\n",
    "from langchain.prompts import ChatPromptTemplate, MessagesPlaceholder, PromptTemplate"
   ]
  },
  {
   "cell_type": "code",
   "execution_count": 2,
   "metadata": {},
   "outputs": [],
   "source": [
    "load_dotenv(\"../.env\")\n",
    "\n",
    "GPT_4 = \"gpt-4-1106-preview\"\n",
    "GPT_3 = \"gpt-3.5-turbo-0125\"\n",
    "MANAGEMENT_DIR = \"../data/management\"\n",
    "USER_DIR = \"../data/user\"\n",
    "LLM = ChatOpenAI(temperature=0, model=GPT_4)\n",
    "TOOLS = []\n",
    "SESSION_ID = \"test\"\n",
    "USER_ROLE = \"management\"\n",
    "CHUNK_SIZE = 400\n",
    "CHUNK_OVERLAP = 0\n",
    "STORE = {}"
   ]
  },
  {
   "cell_type": "code",
   "execution_count": 130,
   "metadata": {},
   "outputs": [],
   "source": [
    "system_prompt = \"\"\"\n",
    "You are a LEAF chatbot agent, you are required to provide answer to the question based on the embedded knowledge. Provide a short, concise and precise answers. Do not give a general answer or trying to fabricate an answer when you don't know the answer or when the question is out of this company context.\n",
    "\"\"\""
   ]
  },
  {
   "cell_type": "code",
   "execution_count": 153,
   "metadata": {},
   "outputs": [],
   "source": [
    "system_prompt = '''You are Leaf's company chatbot. Answer the following questions with facts, use the right tool based on the user access level. Do not give a general answer, be specific to the question in context of this company:\n",
    "\n",
    "{tools}\n",
    "\n",
    "Use the following format:\n",
    "\n",
    "Question: the input question you must answer\n",
    "Thought: you should always think about what to do\n",
    "Action: the action to take, should be one of [{tool_names}]\n",
    "Action Input: the input to the action\n",
    "Observation: the result of the action\n",
    "... (this Thought/Action/Action Input/Observation can repeat N times)\n",
    "Thought: I now know the final answer\n",
    "Final Answer: the final answer to the original input question without addressing the user role\n",
    "\n",
    "Begin!\n",
    "\n",
    "Question: {input}\n",
    "Thought:{agent_scratchpad}'''\n",
    "\n",
    "prompt = PromptTemplate(\n",
    "    input_variables=['agent_scratchpad', 'input', 'tool_names', 'tools'],\n",
    "    template=system_prompt\n",
    ")"
   ]
  },
  {
   "cell_type": "code",
   "execution_count": 135,
   "metadata": {},
   "outputs": [],
   "source": [
    "hub_prompt = hub.pull(\"hwchase17/react\")"
   ]
  },
  {
   "cell_type": "code",
   "execution_count": 136,
   "metadata": {},
   "outputs": [
    {
     "data": {
      "text/plain": [
       "PromptTemplate(input_variables=['agent_scratchpad', 'input', 'tool_names', 'tools'], metadata={'lc_hub_owner': 'hwchase17', 'lc_hub_repo': 'react', 'lc_hub_commit_hash': 'd15fe3c426f1c4b3f37c9198853e4a86e20c425ca7f4752ec0c9b0e97ca7ea4d'}, template='Answer the following questions as best you can. You have access to the following tools:\\n\\n{tools}\\n\\nUse the following format:\\n\\nQuestion: the input question you must answer\\nThought: you should always think about what to do\\nAction: the action to take, should be one of [{tool_names}]\\nAction Input: the input to the action\\nObservation: the result of the action\\n... (this Thought/Action/Action Input/Observation can repeat N times)\\nThought: I now know the final answer\\nFinal Answer: the final answer to the original input question\\n\\nBegin!\\n\\nQuestion: {input}\\nThought:{agent_scratchpad}')"
      ]
     },
     "execution_count": 136,
     "metadata": {},
     "output_type": "execute_result"
    }
   ],
   "source": [
    "hub_prompt"
   ]
  },
  {
   "cell_type": "code",
   "execution_count": 114,
   "metadata": {},
   "outputs": [],
   "source": [
    "query = \"steps to set up a home alarm system?\""
   ]
  },
  {
   "cell_type": "code",
   "execution_count": 16,
   "metadata": {},
   "outputs": [],
   "source": [
    "def get_filepaths(dirs, ext):\n",
    "    all_files = []\n",
    "    for dir in dirs:\n",
    "        pattern = os.path.join(dir, \"**\", f\"*{ext}\")\n",
    "        files = tqdm(\n",
    "            glob(pattern, recursive=True), desc=f\"Loading {ext} files for {dir}\"\n",
    "        )\n",
    "        # files = [file.replace(\"\\\\\", \"/\") for file in files]\n",
    "        all_files.extend(files)\n",
    "    return all_files"
   ]
  },
  {
   "cell_type": "code",
   "execution_count": 95,
   "metadata": {},
   "outputs": [],
   "source": [
    "def load_files(user):\n",
    "    texts = []\n",
    "    if user in [\"management\"]:\n",
    "        files = get_filepaths([MANAGEMENT_DIR, USER_DIR], \".pdf\")\n",
    "    else:\n",
    "        files = get_filepaths([USER_DIR], \".pdf\")\n",
    "        \n",
    "    for file in files:\n",
    "        loader = PDFMinerLoader(file)\n",
    "        text_splitter = RecursiveCharacterTextSplitter(\n",
    "            chunk_size=400, \n",
    "            chunk_overlap=0,\n",
    "            separators=[\n",
    "                \"\\n\\n\"\n",
    "            ])\n",
    "        split_text = text_splitter.split_documents(loader.load())\n",
    "        texts.extend(split_text)\n",
    "        \n",
    "    return texts"
   ]
  },
  {
   "cell_type": "code",
   "execution_count": 96,
   "metadata": {},
   "outputs": [
    {
     "name": "stderr",
     "output_type": "stream",
     "text": [
      "Loading .pdf files for ../data/management: 100%|██████████| 3/3 [00:00<?, ?it/s]\n",
      "Loading .pdf files for ../data/user: 100%|██████████| 4/4 [00:00<?, ?it/s]\n",
      "Loading .pdf files for ../data/user: 100%|██████████| 4/4 [00:00<?, ?it/s]\n"
     ]
    }
   ],
   "source": [
    "admin_documents = load_files(\"management\")\n",
    "user_documents = load_files(\"user\")\n"
   ]
  },
  {
   "cell_type": "code",
   "execution_count": null,
   "metadata": {},
   "outputs": [],
   "source": [
    "# for doc in user_documents:\n",
    "#     try:\n",
    "#         print(doc.metadata, \"\\n\", doc.page_content[:100], \"\\n\", \"====================\")\n",
    "#     except:\n",
    "#         print(\"fail\", doc)"
   ]
  },
  {
   "cell_type": "code",
   "execution_count": 110,
   "metadata": {},
   "outputs": [],
   "source": [
    "admin_faiss_index = FAISS.from_documents(admin_documents, OpenAIEmbeddings())\n",
    "user_faiss_index = FAISS.from_documents(user_documents, OpenAIEmbeddings())\n",
    "\n",
    "admin_bm25_retriever = BM25Retriever.from_documents(\n",
    "    documents=admin_documents,\n",
    "    k=2\n",
    ")\n",
    "admin_bm25_retriever.k = 2\n",
    "user_bm25_retriever = BM25Retriever.from_documents(\n",
    "    documents=user_documents,\n",
    "    k=2\n",
    ")\n",
    "user_bm25_retriever.k = 2\n",
    "\n",
    "admin_ensemble_retriever = EnsembleRetriever(\n",
    "    retrievers=[\n",
    "        admin_bm25_retriever,\n",
    "        admin_faiss_index.as_retriever(\n",
    "            search_type=\"similarity_score_threshold\",\n",
    "            search_kwargs={\n",
    "                \"score_threshold\": .3,\n",
    "                \"k\": 2}\n",
    "        )\n",
    "    ]\n",
    ")\n",
    "\n",
    "user_ensemble_retriever = EnsembleRetriever(\n",
    "    retrievers=[\n",
    "        user_bm25_retriever,\n",
    "        user_faiss_index.as_retriever(\n",
    "            search_type=\"similarity_score_threshold\",\n",
    "            search_kwargs={\n",
    "                \"score_threshold\": .3,\n",
    "                \"k\": 2}\n",
    "        )\n",
    "    ],\n",
    "    weights=[\n",
    "        0.5,\n",
    "        0.5\n",
    "    ]\n",
    ")"
   ]
  },
  {
   "cell_type": "code",
   "execution_count": null,
   "metadata": {},
   "outputs": [],
   "source": [
    "# admin_faiss_index.similarity_search_with_score(query, k=4, score_threshold=0.4)"
   ]
  },
  {
   "cell_type": "code",
   "execution_count": null,
   "metadata": {},
   "outputs": [],
   "source": [
    "# admin_ensemble_retriever.invoke(query)"
   ]
  },
  {
   "cell_type": "code",
   "execution_count": null,
   "metadata": {},
   "outputs": [],
   "source": [
    "# user_ensemble_retriever.invoke(query)"
   ]
  },
  {
   "cell_type": "code",
   "execution_count": null,
   "metadata": {},
   "outputs": [],
   "source": [
    "# retriever = admin_faiss_index.as_retriever(\n",
    "#     search_type=\"similarity_score_threshold\",\n",
    "#     search_kwargs={\n",
    "#         \"score_threshold\": .3,\n",
    "#         \"k\": 2}\n",
    "# )\n",
    "# retriever.invoke(query)"
   ]
  },
  {
   "cell_type": "code",
   "execution_count": 142,
   "metadata": {},
   "outputs": [],
   "source": [
    "admin_ensemble_retriever_tool = create_retriever_tool(\n",
    "    retriever=admin_ensemble_retriever,\n",
    "    name=\"admin_retriever_tool\",\n",
    "    description=\"useful for retrieving the admin vector store when querying for result based on context\"\n",
    ")\n",
    "\n",
    "user_ensemble_retriever_tool = create_retriever_tool(\n",
    "    retriever=user_ensemble_retriever,\n",
    "    name=\"user_retriever_tool\",\n",
    "    description=\"useful for retrieving the user vector store when querying for result based on context\"\n",
    ")\n",
    "\n",
    "tools = [admin_ensemble_retriever_tool, user_ensemble_retriever_tool]"
   ]
  },
  {
   "cell_type": "code",
   "execution_count": 154,
   "metadata": {},
   "outputs": [],
   "source": [
    "agent = create_react_agent(\n",
    "    llm=LLM, \n",
    "    tools=tools, \n",
    "    prompt=prompt\n",
    ")"
   ]
  },
  {
   "cell_type": "code",
   "execution_count": 155,
   "metadata": {},
   "outputs": [],
   "source": [
    "agent_executor = AgentExecutor(\n",
    "    agent=agent,\n",
    "    tools=tools,\n",
    "    verbose=True\n",
    ")"
   ]
  },
  {
   "cell_type": "code",
   "execution_count": 156,
   "metadata": {},
   "outputs": [
    {
     "name": "stdout",
     "output_type": "stream",
     "text": [
      "\n",
      "\n",
      "\u001b[1m> Entering new AgentExecutor chain...\u001b[0m\n",
      "\u001b[32;1m\u001b[1;3mThought: To provide steps for setting up a home alarm system, I need to access the company's knowledge base. Since the question is from management, I should use the admin tool to retrieve the information.\n",
      "\n",
      "Action: admin_retriever_tool\n",
      "Action Input: Steps to set up a home alarm system for management.\u001b[0m\u001b[36;1m\u001b[1;3mTest the alarm system periodically.\n",
      "Ensure the alarm sounds clearly and for enough time . Make sure there are\n",
      "no warnings indicating \"Low Battery\".\n",
      "Attach and test a backup battery to the alarm to ensure it works during a\n",
      "power outage. Test and calibrate the alarm's sensors, such as the fire and\n",
      "smoke detection sensors.\n",
      "Test and calibrate alarm sensors periodically.\n",
      "\n",
      "Roof Gutter\n",
      "\n",
      "MAINTENANCE\n",
      "\n",
      "These maintenance tips are intended to highlight \n",
      "common areas which homeowners should maintain to \n",
      "preserve the look and function of their new home. \n",
      "Several important preventive procedures are required \n",
      "at periodic intervals. Use these tips to discover and \n",
      "correct minor issues before they become major \n",
      "expenses.\n",
      "\n",
      "\fHome Alarm System\n",
      "\n",
      "Water Pump\n",
      "\n",
      "Routinely  inspect  the  water  pump  system  to  ensure  it  is\n",
      "operating properly and efficiently. Early detection of problems\n",
      "can extend the life of the water pump system.\n",
      "Switch  off  the  water  pump  system  when  you  plan  to  be  away\n",
      "from home for long periods of time.\n",
      "\n",
      "Hand Bidet Valve\u001b[0m\u001b[32;1m\u001b[1;3mThe retrieved information provides specific steps for setting up and maintaining a home alarm system, which is relevant to the question asked by management.\n",
      "\n",
      "Thought: I now know the final answer.\n",
      "\n",
      "Final Answer: To set up a home alarm system, management should follow these steps:\n",
      "\n",
      "1. Test the alarm system periodically to ensure it is functioning correctly.\n",
      "2. Ensure the alarm sounds clearly and for a sufficient duration, and check for any \"Low Battery\" warnings.\n",
      "3. Attach and test a backup battery to the alarm system to guarantee operation during a power outage.\n",
      "4. Test and calibrate the alarm's sensors, including fire and smoke detection sensors, to ensure they are sensitive and accurate.\n",
      "5. Perform these tests and calibrations periodically to maintain the system's reliability.\u001b[0m\n",
      "\n",
      "\u001b[1m> Finished chain.\u001b[0m\n"
     ]
    },
    {
     "data": {
      "text/plain": [
       "{'input': 'as a management, steps to set up a home alarm system?',\n",
       " 'output': 'To set up a home alarm system, management should follow these steps:\\n\\n1. Test the alarm system periodically to ensure it is functioning correctly.\\n2. Ensure the alarm sounds clearly and for a sufficient duration, and check for any \"Low Battery\" warnings.\\n3. Attach and test a backup battery to the alarm system to guarantee operation during a power outage.\\n4. Test and calibrate the alarm\\'s sensors, including fire and smoke detection sensors, to ensure they are sensitive and accurate.\\n5. Perform these tests and calibrations periodically to maintain the system\\'s reliability.'}"
      ]
     },
     "execution_count": 156,
     "metadata": {},
     "output_type": "execute_result"
    }
   ],
   "source": [
    "agent_executor.invoke(\n",
    "    {\n",
    "        \"input\": f\"as a {USER_ROLE}, {query}\"\n",
    "    }\n",
    ")"
   ]
  }
 ],
 "metadata": {
  "kernelspec": {
   "display_name": "leaf-chatbot",
   "language": "python",
   "name": "python3"
  },
  "language_info": {
   "codemirror_mode": {
    "name": "ipython",
    "version": 3
   },
   "file_extension": ".py",
   "mimetype": "text/x-python",
   "name": "python",
   "nbconvert_exporter": "python",
   "pygments_lexer": "ipython3",
   "version": "3.12.3"
  }
 },
 "nbformat": 4,
 "nbformat_minor": 2
}
