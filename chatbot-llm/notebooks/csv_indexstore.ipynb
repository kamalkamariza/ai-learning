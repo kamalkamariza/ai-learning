{
 "cells": [
  {
   "cell_type": "code",
   "execution_count": null,
   "metadata": {},
   "outputs": [],
   "source": [
    "# Use VectorStoreIndexCreator for csvs\n",
    "# https://api.python.langchain.com/en/latest/indexes/langchain.indexes.vectorstore.VectorstoreIndexCreator.html\n",
    "# https://github.com/samthedataman/InternAI/blob/main/streamlit_app.py\n",
    "\n",
    "\"\"\"\n",
    "    csv_args = {\"delimiter\": \",\", \"quotechar\": '\"'}\n",
    "    loader = CSVLoader(file_path=path, csv_args=csv_args)\n",
    "    #   loader = DataFrameLoader(df,page_content_column=df.columns[0])\n",
    "    index_creator = VectorstoreIndexCreator()\n",
    "    docsearch = index_creator.from_loaders([loader])\n",
    "\"\"\""
   ]
  }
 ],
 "metadata": {
  "language_info": {
   "name": "python"
  }
 },
 "nbformat": 4,
 "nbformat_minor": 2
}
