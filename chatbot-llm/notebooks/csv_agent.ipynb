{
 "cells": [
  {
   "cell_type": "code",
   "execution_count": 34,
   "metadata": {},
   "outputs": [],
   "source": [
    "import os\n",
    "import pandas as pd\n",
    "import matplotlib.pyplot as plt\n",
    "from glob import glob\n",
    "from tqdm import tqdm\n",
    "from dotenv import load_dotenv\n",
    "from langchain.agents.agent_types import AgentType\n",
    "from langchain_openai import ChatOpenAI, OpenAIEmbeddings\n",
    "from langchain_experimental.agents.agent_toolkits import (\n",
    "    create_pandas_dataframe_agent,\n",
    ")\n"
   ]
  },
  {
   "cell_type": "code",
   "execution_count": 35,
   "metadata": {},
   "outputs": [],
   "source": [
    "load_dotenv(\"../.env\")\n",
    "\n",
    "GPT_4 = \"gpt-4-1106-preview\"\n",
    "GPT_3 = \"gpt-3.5-turbo-0125\"\n",
    "MANAGEMENT_DIR = \"../data/management\"\n",
    "USER_DIR = \"../data/user\"\n",
    "LLM = ChatOpenAI(temperature=0, model=GPT_4)\n",
    "TOOLS = []\n",
    "SESSION_ID = \"test\"\n",
    "USER_ROLE = \"management\"\n",
    "CHUNK_SIZE = 400\n",
    "CHUNK_OVERLAP = 0\n",
    "STORE = {}"
   ]
  },
  {
   "cell_type": "code",
   "execution_count": 36,
   "metadata": {},
   "outputs": [],
   "source": [
    "def get_filepaths(dirs, ext):\n",
    "    all_files = []\n",
    "    for dir in dirs:\n",
    "        pattern = os.path.join(dir, \"**\", f\"*{ext}\")\n",
    "        files = tqdm(\n",
    "            glob(pattern, recursive=True), desc=f\"Loading {ext} files for {dir}\"\n",
    "        )\n",
    "        all_files.extend(files)\n",
    "    return all_files"
   ]
  },
  {
   "cell_type": "code",
   "execution_count": 37,
   "metadata": {},
   "outputs": [],
   "source": [
    "def get_dfs(user):\n",
    "    dfs = []\n",
    "    if user in [\"management\"]:\n",
    "        print(\"df creating for management\")\n",
    "        files = get_filepaths([MANAGEMENT_DIR, USER_DIR], \".xlsx\")\n",
    "    else:\n",
    "        print(\"df creating for user\")\n",
    "        files = get_filepaths([USER_DIR], \".xlsx\")\n",
    "\n",
    "    for file in files:\n",
    "        df = pd.read_excel(file)\n",
    "        dfs.append(df)\n",
    "        \n",
    "    return dfs"
   ]
  },
  {
   "cell_type": "code",
   "execution_count": 38,
   "metadata": {},
   "outputs": [],
   "source": [
    "def init_df_agent(user):\n",
    "    return create_pandas_dataframe_agent(\n",
    "        llm=LLM, \n",
    "        df=get_dfs(user), \n",
    "        agent_type=AgentType.ZERO_SHOT_REACT_DESCRIPTION,\n",
    "        verbose=True\n",
    "    )\n",
    "    "
   ]
  },
  {
   "cell_type": "code",
   "execution_count": 39,
   "metadata": {},
   "outputs": [
    {
     "name": "stdout",
     "output_type": "stream",
     "text": [
      "df creating for management\n"
     ]
    },
    {
     "name": "stderr",
     "output_type": "stream",
     "text": [
      "Loading .xlsx files for ../data/management: 100%|██████████| 1/1 [00:00<?, ?it/s]\n",
      "Loading .xlsx files for ../data/user: 0it [00:00, ?it/s]\n"
     ]
    },
    {
     "name": "stdout",
     "output_type": "stream",
     "text": [
      "df creating for user\n"
     ]
    },
    {
     "name": "stderr",
     "output_type": "stream",
     "text": [
      "Loading .xlsx files for ../data/user: 0it [00:00, ?it/s]\n"
     ]
    }
   ],
   "source": [
    "admin_agent = init_df_agent(\"management\")\n",
    "user_agent = init_df_agent(\"user\")"
   ]
  },
  {
   "cell_type": "code",
   "execution_count": 40,
   "metadata": {},
   "outputs": [
    {
     "name": "stdout",
     "output_type": "stream",
     "text": [
      "\n",
      "\n",
      "\u001b[1m> Entering new AgentExecutor chain...\u001b[0m\n",
      "\u001b[32;1m\u001b[1;3mThought: To create a bar graph of house status distribution, I need to count the occurrences of each unique value in the \"Status\" column of the dataframe and then plot these counts as a bar graph.\n",
      "\n",
      "Action: I will first check if the \"Status\" column exists in the dataframe and then count the occurrences of each unique value in that column.\n",
      "Action Input: df1['Status'].value_counts()\u001b[0mI will first check if the \"Status\" column exists in the dataframe and then count the occurrences of each unique value in that column. is not a valid tool, try one of [python_repl_ast].\u001b[32;1m\u001b[1;3mI need to use the python_repl_ast tool to execute the Python command to check the \"Status\" column and count the occurrences of each unique value.\n",
      "\n",
      "Action: python_repl_ast\n",
      "Action Input: df1['Status'].value_counts()\u001b[0m\u001b[36;1m\u001b[1;3mStatus\n",
      "Occupied      421\n",
      "Vacant        126\n",
      "Renovation     91\n",
      "Name: count, dtype: int64\u001b[0m"
     ]
    },
    {
     "data": {
      "image/png": "[encoded data removed]",
      "text/plain": [
       "<Figure size 640x480 with 1 Axes>"
      ]
     },
     "metadata": {},
     "output_type": "display_data"
    },
    {
     "name": "stdout",
     "output_type": "stream",
     "text": [
      "\u001b[32;1m\u001b[1;3mThe \"Status\" column exists and contains three unique values: \"Occupied\", \"Vacant\", and \"Renovation\", with counts of 421, 126, and 91 respectively. Now I will plot these counts as a bar graph using the matplotlib library.\n",
      "\n",
      "Action: python_repl_ast\n",
      "Action Input: import matplotlib.pyplot as plt; df1['Status'].value_counts().plot(kind='bar'); plt.xlabel('Status'); plt.ylabel('Count'); plt.title('House Status Distribution'); plt.show()\u001b[0m\u001b[36;1m\u001b[1;3m\u001b[0m\u001b[32;1m\u001b[1;3mThe action was not completed because the output of the plot cannot be observed directly in this text-based interface. However, the provided Python command would generate a bar graph of the house status distribution if executed in a Python environment with graphical output capabilities.\n",
      "\n",
      "Final Answer: The Python command to generate a bar graph of the house status distribution is:\n",
      "\n",
      "```python\n",
      "import matplotlib.pyplot as plt\n",
      "df1['Status'].value_counts().plot(kind='bar')\n",
      "plt.xlabel('Status')\n",
      "plt.ylabel('Count')\n",
      "plt.title('House Status Distribution')\n",
      "plt.show()\n",
      "```\n",
      "\n",
      "Executing this command in a suitable Python environment would display the bar graph.\u001b[0m\n",
      "\n",
      "\u001b[1m> Finished chain.\u001b[0m\n"
     ]
    },
    {
     "data": {
      "text/plain": [
       "\"The Python command to generate a bar graph of the house status distribution is:\\n\\n```python\\nimport matplotlib.pyplot as plt\\ndf1['Status'].value_counts().plot(kind='bar')\\nplt.xlabel('Status')\\nplt.ylabel('Count')\\nplt.title('House Status Distribution')\\nplt.show()\\n```\\n\\nExecuting this command in a suitable Python environment would display the bar graph.\""
      ]
     },
     "execution_count": 40,
     "metadata": {},
     "output_type": "execute_result"
    }
   ],
   "source": [
    "admin_agent.run(\"Show me a bar graph of house status distribution\")"
   ]
  },
  {
   "cell_type": "code",
   "execution_count": 41,
   "metadata": {},
   "outputs": [
    {
     "name": "stdout",
     "output_type": "stream",
     "text": [
      "\n",
      "\n",
      "\u001b[1m> Entering new AgentExecutor chain...\u001b[0m\n",
      "\u001b[32;1m\u001b[1;3mTo show a bar graph of house status distribution, I would need to know the structure of the dataframe that contains the relevant information. Specifically, I need to know which dataframe contains the 'house status' data and the name of the column that holds this information. Since I don't have direct access to the dataframes, I will need to ask you for this information.\n",
      "\n",
      "Final Answer: Could you please provide the name of the dataframe and the specific column that contains the 'house status' data? Once I have this information, I can proceed to generate a bar graph for you.\u001b[0m\n",
      "\n",
      "\u001b[1m> Finished chain.\u001b[0m\n"
     ]
    },
    {
     "data": {
      "text/plain": [
       "\"Could you please provide the name of the dataframe and the specific column that contains the 'house status' data? Once I have this information, I can proceed to generate a bar graph for you.\""
      ]
     },
     "execution_count": 41,
     "metadata": {},
     "output_type": "execute_result"
    }
   ],
   "source": [
    "user_agent.run(\"Show me a bar graph of house status distribution\")"
   ]
  }
 ],
 "metadata": {
  "kernelspec": {
   "display_name": "leaf-chatbot",
   "language": "python",
   "name": "python3"
  },
  "language_info": {
   "codemirror_mode": {
    "name": "ipython",
    "version": 3
   },
   "file_extension": ".py",
   "mimetype": "text/x-python",
   "name": "python",
   "nbconvert_exporter": "python",
   "pygments_lexer": "ipython3",
   "version": "3.12.3"
  }
 },
 "nbformat": 4,
 "nbformat_minor": 2
}
