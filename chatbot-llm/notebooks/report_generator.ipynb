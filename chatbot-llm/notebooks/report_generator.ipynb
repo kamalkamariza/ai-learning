{
 "cells": [
  {
   "cell_type": "code",
   "execution_count": 14,
   "metadata": {},
   "outputs": [],
   "source": [
    "import pandas as pd\n",
    "from langchain import hub\n",
    "from dotenv import load_dotenv\n",
    "from langchain_core.tools import tool\n",
    "from langchain_openai import ChatOpenAI\n",
    "from langchain.agents.agent_types import AgentType\n",
    "from langchain.agents import AgentExecutor, create_react_agent, Tool\n",
    "from langchain_experimental.agents.agent_toolkits import create_pandas_dataframe_agent"
   ]
  },
  {
   "cell_type": "code",
   "execution_count": 15,
   "metadata": {},
   "outputs": [],
   "source": [
    "load_dotenv(\"../.env\")\n",
    "LLM = ChatOpenAI(temperature=0, model=\"gpt-4-1106-preview\")\n",
    "prompt = hub.pull(\"hwchase17/react\")"
   ]
  },
  {
   "cell_type": "code",
   "execution_count": 16,
   "metadata": {},
   "outputs": [
    {
     "name": "stdout",
     "output_type": "stream",
     "text": [
      "Answer the following questions as best you can. You have access to the following tools:\n",
      "\n",
      "{tools}\n",
      "\n",
      "Use the following format:\n",
      "\n",
      "Question: the input question you must answer\n",
      "Thought: you should always think about what to do\n",
      "Action: the action to take, should be one of [{tool_names}]\n",
      "Action Input: the input to the action\n",
      "Observation: the result of the action\n",
      "... (this Thought/Action/Action Input/Observation can repeat N times)\n",
      "Thought: I now know the final answer\n",
      "Final Answer: the final answer to the original input question\n",
      "\n",
      "Begin!\n",
      "\n",
      "Question: {input}\n",
      "Thought:{agent_scratchpad}\n"
     ]
    }
   ],
   "source": [
    "print(prompt.template)"
   ]
  },
  {
   "cell_type": "code",
   "execution_count": 17,
   "metadata": {},
   "outputs": [],
   "source": [
    "df = pd.read_csv(\"../data/dummy_data.csv\")"
   ]
  },
  {
   "cell_type": "code",
   "execution_count": 18,
   "metadata": {},
   "outputs": [
    {
     "data": {
      "text/html": [
       "<div>\n",
       "<style scoped>\n",
       "    .dataframe tbody tr th:only-of-type {\n",
       "        vertical-align: middle;\n",
       "    }\n",
       "\n",
       "    .dataframe tbody tr th {\n",
       "        vertical-align: top;\n",
       "    }\n",
       "\n",
       "    .dataframe thead th {\n",
       "        text-align: right;\n",
       "    }\n",
       "</style>\n",
       "<table border=\"1\" class=\"dataframe\">\n",
       "  <thead>\n",
       "    <tr style=\"text-align: right;\">\n",
       "      <th></th>\n",
       "      <th>countries</th>\n",
       "      <th>year</th>\n",
       "      <th>month</th>\n",
       "      <th>revenue</th>\n",
       "    </tr>\n",
       "  </thead>\n",
       "  <tbody>\n",
       "    <tr>\n",
       "      <th>0</th>\n",
       "      <td>malaysia</td>\n",
       "      <td>2013</td>\n",
       "      <td>1</td>\n",
       "      <td>1</td>\n",
       "    </tr>\n",
       "    <tr>\n",
       "      <th>1</th>\n",
       "      <td>malaysia</td>\n",
       "      <td>2013</td>\n",
       "      <td>2</td>\n",
       "      <td>2</td>\n",
       "    </tr>\n",
       "    <tr>\n",
       "      <th>2</th>\n",
       "      <td>malaysia</td>\n",
       "      <td>2013</td>\n",
       "      <td>3</td>\n",
       "      <td>3</td>\n",
       "    </tr>\n",
       "    <tr>\n",
       "      <th>3</th>\n",
       "      <td>malaysia</td>\n",
       "      <td>2013</td>\n",
       "      <td>4</td>\n",
       "      <td>4</td>\n",
       "    </tr>\n",
       "    <tr>\n",
       "      <th>4</th>\n",
       "      <td>malaysia</td>\n",
       "      <td>2013</td>\n",
       "      <td>5</td>\n",
       "      <td>5</td>\n",
       "    </tr>\n",
       "  </tbody>\n",
       "</table>\n",
       "</div>"
      ],
      "text/plain": [
       "  countries  year  month  revenue\n",
       "0  malaysia  2013      1        1\n",
       "1  malaysia  2013      2        2\n",
       "2  malaysia  2013      3        3\n",
       "3  malaysia  2013      4        4\n",
       "4  malaysia  2013      5        5"
      ]
     },
     "execution_count": 18,
     "metadata": {},
     "output_type": "execute_result"
    }
   ],
   "source": [
    "df.head()"
   ]
  },
  {
   "cell_type": "code",
   "execution_count": 19,
   "metadata": {},
   "outputs": [],
   "source": [
    "@tool\n",
    "def multiply(first_int: int, second_int: int) -> int:\n",
    "    \"\"\"Multiply two integers together.\"\"\"\n",
    "    return first_int * second_int\n",
    "\n",
    "\n",
    "@tool\n",
    "def add(first_int: int, second_int: int) -> int:\n",
    "    \"Add two integers.\"\n",
    "    return first_int + second_int\n",
    "\n",
    "\n",
    "@tool\n",
    "def divide(first_int: int, second_int: int) -> int:\n",
    "    \"Divide two integers.\"\n",
    "    return first_int / second_int\n",
    "\n",
    "\n",
    "@tool\n",
    "def writer(input: str) -> int:\n",
    "    \"Write an answer to a file whenever user requested writing a file.\"\n",
    "    with open(\"../data/result.txt\", \"w\") as f:\n",
    "        f.write(input)\n",
    "\n",
    "    return f\"File saved to '../data/result.txt'\""
   ]
  },
  {
   "cell_type": "code",
   "execution_count": 56,
   "metadata": {},
   "outputs": [],
   "source": [
    "from langchain_experimental.tools import PythonREPLTool\n",
    "from langchain.agents import create_openai_functions_agent\n",
    "\n",
    "reporter_tools = [PythonREPLTool()]\n",
    "base_prompt = hub.pull(\"langchain-ai/openai-functions-template\")\n",
    "\n",
    "instructions = \"\"\"You are an agent designed to write and execute python code to write a report in PDF to \"../data/result.pdf\" using ReportLab package.\n",
    "    First you need to give a proper title based on the content, then write the content to a PDF file.\n",
    "    You have access to a python REPL, which you can use to execute python code.\n",
    "    If you get an error, debug your code and try again.\n",
    "    Return \"I have written a report to `filepath`\" after you have successfully finished executing the code. \n",
    "    You might know the answer without running any code, but you should still run the code to get the answer.\n",
    "    If it does not seem like you can write code to answer the question, just return \"I don't know\" as the answer.\n",
    "    \"\"\"\n",
    "reporter_prompt = base_prompt.partial(instructions=instructions)\n",
    "\n",
    "reporter_agent = create_openai_functions_agent(\n",
    "    ChatOpenAI(temperature=0), reporter_tools, reporter_prompt\n",
    ")\n",
    "\n",
    "reporter_agent_executor = AgentExecutor(\n",
    "    agent=reporter_agent, tools=reporter_tools, verbose=True\n",
    ")\n",
    "\n",
    "\n",
    "@tool\n",
    "def write_to_file(input) -> int:\n",
    "    \"\"\"useful when writing a report to a file.\"\"\"\n",
    "\n",
    "    return reporter_agent_executor.invoke({\"input\": input})"
   ]
  },
  {
   "cell_type": "code",
   "execution_count": 57,
   "metadata": {},
   "outputs": [],
   "source": [
    "csv_agent = create_pandas_dataframe_agent(\n",
    "    llm=LLM,\n",
    "    df=[df],\n",
    "    agent_type=AgentType.ZERO_SHOT_REACT_DESCRIPTION,  # ZERO_SHOT_REACT_DESCRIPTION\n",
    "    verbose=True,\n",
    "    return_intermediate_steps=True,\n",
    "    prefix=\"\"\"\n",
    "    There will be multiple dfs, so access them with df1, df2 etc.\n",
    "    Always call \"df1.head()\" to see what are the possible columns and values for you to query on.\n",
    "    Process the whole df and provide accurate answer.\n",
    "    if function_name == \"python\": function_name = \"python_repl_ast\"\n",
    "    \"\"\",\n",
    "    include_df_in_prompt=False,\n",
    ")"
   ]
  },
  {
   "cell_type": "code",
   "execution_count": 58,
   "metadata": {},
   "outputs": [
    {
     "name": "stdout",
     "output_type": "stream",
     "text": [
      "verbose=True agent=RunnableAgent(runnable=RunnableAssign(mapper={\n",
      "  agent_scratchpad: RunnableLambda(lambda x: format_log_to_str(x['intermediate_steps']))\n",
      "})\n",
      "| PromptTemplate(input_variables=['agent_scratchpad', 'input'], partial_variables={'tools': 'python_repl_ast: A Python shell. Use this to execute python commands. Input should be a valid python command. When using this tool, sometimes output is abbreviated - make sure it does not look abbreviated before using it in your answer.', 'tool_names': 'python_repl_ast'}, template='\\n    There will be multiple dfs, so access them with df1, df2 etc.\\n    Always call \"df1.head()\" to see what are the possible columns and values for you to query on.\\n    Process the whole df and provide accurate answer.\\n    if function_name == \"python\": function_name = \"python_repl_ast\"\\n    \\n\\n{tools}\\n\\nUse the following format:\\n\\nQuestion: the input question you must answer\\nThought: you should always think about what to do\\nAction: the action to take, should be one of [{tool_names}]\\nAction Input: the input to the action\\nObservation: the result of the action\\n... (this Thought/Action/Action Input/Observation can repeat N times)\\nThought: I now know the final answer\\nFinal Answer: the final answer to the original input question\\n\\n\\nBegin!\\nQuestion: {input}\\n{agent_scratchpad}')\n",
      "| RunnableBinding(bound=ChatOpenAI(client=<openai.resources.chat.completions.Completions object at 0x00000276BF08BE60>, async_client=<openai.resources.chat.completions.AsyncCompletions object at 0x00000276BF088F80>, model_name='gpt-4-1106-preview', temperature=0.0, openai_api_key=SecretStr('**********'), openai_proxy=''), kwargs={'stop': ['\\nObservation']})\n",
      "| ReActSingleInputOutputParser(), input_keys_arg=['input'], return_keys_arg=['output'], stream_runnable=True) tools=[PythonAstREPLTool(locals={'df1':     countries  year  month  revenue\n",
      "0    malaysia  2013      1        1\n",
      "1    malaysia  2013      2        2\n",
      "2    malaysia  2013      3        3\n",
      "3    malaysia  2013      4        4\n",
      "4    malaysia  2013      5        5\n",
      "..        ...   ...    ...      ...\n",
      "67  singapore  2014      8        8\n",
      "68  singapore  2014      9        9\n",
      "69  singapore  2014     10       10\n",
      "70  singapore  2014     11       11\n",
      "71  singapore  2014     12       12\n",
      "\n",
      "[72 rows x 4 columns]})] return_intermediate_steps=True\n"
     ]
    }
   ],
   "source": [
    "print(csv_agent)"
   ]
  },
  {
   "cell_type": "code",
   "execution_count": 59,
   "metadata": {},
   "outputs": [],
   "source": [
    "tools = [\n",
    "    # Tool.from_function(\n",
    "    #     func=reporter_agent.invoke,\n",
    "    #     name=\"reporter_agent\",\n",
    "    #     description=f\"useful when writing a report to a file. Be sure to give the input in a dictionary under key `input`\",\n",
    "    # ),\n",
    "    Tool.from_function(\n",
    "        func=csv_agent.invoke,\n",
    "        name=\"csv_agent\",\n",
    "        description=f\"useful when retrieving the dataframe to process on\",\n",
    "    ),\n",
    "    write_to_file,\n",
    "]"
   ]
  },
  {
   "cell_type": "code",
   "execution_count": 60,
   "metadata": {},
   "outputs": [],
   "source": [
    "agent = create_react_agent(LLM, tools, prompt)"
   ]
  },
  {
   "cell_type": "code",
   "execution_count": 61,
   "metadata": {},
   "outputs": [],
   "source": [
    "agent_executor = AgentExecutor(agent=agent, tools=tools, verbose=True)"
   ]
  },
  {
   "cell_type": "code",
   "execution_count": 62,
   "metadata": {},
   "outputs": [
    {
     "name": "stdout",
     "output_type": "stream",
     "text": [
      "\n",
      "\n",
      "\u001b[1m> Entering new AgentExecutor chain...\u001b[0m\n",
      "\u001b[32;1m\u001b[1;3mTo answer this question, I need to retrieve the data that contains Malaysia's revenue for the year 2013. Once I have the data, I can write the specific revenue figure into a file.\n",
      "\n",
      "Action: csv_agent\n",
      "Action Input: What was Malaysia's revenue in 2013?\u001b[0m\n",
      "\n",
      "\u001b[1m> Entering new AgentExecutor chain...\u001b[0m\n",
      "\u001b[32;1m\u001b[1;3mThought: I need to check the dataframe df1 to see if it contains the revenue information for Malaysia in 2013.\n",
      "Action: python_repl_ast\n",
      "Action Input: df1.head()\u001b[0m\u001b[36;1m\u001b[1;3m  countries  year  month  revenue\n",
      "0  malaysia  2013      1        1\n",
      "1  malaysia  2013      2        2\n",
      "2  malaysia  2013      3        3\n",
      "3  malaysia  2013      4        4\n",
      "4  malaysia  2013      5        5\u001b[0m\u001b[32;1m\u001b[1;3mThe dataframe df1 contains columns for 'countries', 'year', 'month', and 'revenue'. I need to filter the dataframe for Malaysia's revenue in the year 2013 and sum up the revenue across all months.\n",
      "Action: python_repl_ast\n",
      "Action Input: df1[(df1['countries'] == 'malaysia') & (df1['year'] == 2013)]['revenue'].sum()\u001b[0m\u001b[36;1m\u001b[1;3m78\u001b[0m\u001b[32;1m\u001b[1;3mI now know the final answer\n",
      "Final Answer: Malaysia's revenue in 2013 was 78.\u001b[0m\n",
      "\n",
      "\u001b[1m> Finished chain.\u001b[0m\n",
      "\u001b[36;1m\u001b[1;3m{'input': \"What was Malaysia's revenue in 2013?\", 'output': \"Malaysia's revenue in 2013 was 78.\", 'intermediate_steps': [(AgentAction(tool='python_repl_ast', tool_input='df1.head()', log='Thought: I need to check the dataframe df1 to see if it contains the revenue information for Malaysia in 2013.\\nAction: python_repl_ast\\nAction Input: df1.head()'),   countries  year  month  revenue\n",
      "0  malaysia  2013      1        1\n",
      "1  malaysia  2013      2        2\n",
      "2  malaysia  2013      3        3\n",
      "3  malaysia  2013      4        4\n",
      "4  malaysia  2013      5        5), (AgentAction(tool='python_repl_ast', tool_input=\"df1[(df1['countries'] == 'malaysia') & (df1['year'] == 2013)]['revenue'].sum()\", log=\"The dataframe df1 contains columns for 'countries', 'year', 'month', and 'revenue'. I need to filter the dataframe for Malaysia's revenue in the year 2013 and sum up the revenue across all months.\\nAction: python_repl_ast\\nAction Input: df1[(df1['countries'] == 'malaysia') & (df1['year'] == 2013)]['revenue'].sum()\"), 78)]}\u001b[0m\u001b[32;1m\u001b[1;3mI now have the revenue figure for Malaysia in 2013, which is 78. I need to write this information into a file.\n",
      "\n",
      "Action: write_to_file\n",
      "Action Input: Malaysia's revenue in 2013 was 78.\u001b[0m\n",
      "\n",
      "\u001b[1m> Entering new AgentExecutor chain...\u001b[0m\n"
     ]
    },
    {
     "name": "stderr",
     "output_type": "stream",
     "text": [
      "Python REPL can execute arbitrary code. Use with caution.\n"
     ]
    },
    {
     "name": "stdout",
     "output_type": "stream",
     "text": [
      "\u001b[32;1m\u001b[1;3m\n",
      "Invoking: `Python_REPL` with `from reportlab.pdfgen import canvas\n",
      "from reportlab.lib.pagesizes import letter\n",
      "\n",
      "c = canvas.Canvas('../data/result.pdf', pagesize=letter)\n",
      "\n",
      "c.setFont('Helvetica-Bold', 16)\n",
      "c.drawString(100, 750, 'Malaysia Revenue Report')\n",
      "\n",
      "c.setFont('Helvetica', 12)\n",
      "content = \"Malaysia's revenue in 2013 was 78.\"\n",
      "c.drawString(100, 700, content)\n",
      "\n",
      "c.save()`\n",
      "\n",
      "\n",
      "\u001b[0m\u001b[36;1m\u001b[1;3m\u001b[0m\u001b[32;1m\u001b[1;3mI have written a report to `../data/result.pdf`\u001b[0m\n",
      "\n",
      "\u001b[1m> Finished chain.\u001b[0m\n",
      "\u001b[33;1m\u001b[1;3m{'input': \"Malaysia's revenue in 2013 was 78.\", 'output': 'I have written a report to `../data/result.pdf`'}\u001b[0m\u001b[32;1m\u001b[1;3mI have successfully written the revenue figure for Malaysia in 2013 into a file.\n",
      "\n",
      "Final Answer: Malaysia's revenue in 2013 has been written into a file located at `../data/result.pdf`.\u001b[0m\n",
      "\n",
      "\u001b[1m> Finished chain.\u001b[0m\n"
     ]
    }
   ],
   "source": [
    "a = agent_executor.invoke(\n",
    "    {\"input\": \"Write much revenue malaysia made in 2013 into a file\"}\n",
    ")"
   ]
  },
  {
   "cell_type": "code",
   "execution_count": 63,
   "metadata": {},
   "outputs": [
    {
     "data": {
      "text/plain": [
       "{'input': 'Write much revenue malaysia made in 2013 into a file',\n",
       " 'output': \"Malaysia's revenue in 2013 has been written into a file located at `../data/result.pdf`.\"}"
      ]
     },
     "execution_count": 63,
     "metadata": {},
     "output_type": "execute_result"
    }
   ],
   "source": [
    "a"
   ]
  }
 ],
 "metadata": {
  "kernelspec": {
   "display_name": "leaf-chatbot",
   "language": "python",
   "name": "python3"
  },
  "language_info": {
   "codemirror_mode": {
    "name": "ipython",
    "version": 3
   },
   "file_extension": ".py",
   "mimetype": "text/x-python",
   "name": "python",
   "nbconvert_exporter": "python",
   "pygments_lexer": "ipython3",
   "version": "3.12.3"
  }
 },
 "nbformat": 4,
 "nbformat_minor": 2
}
