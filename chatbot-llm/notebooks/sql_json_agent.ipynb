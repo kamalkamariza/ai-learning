{
 "cells": [
  {
   "cell_type": "code",
   "execution_count": 38,
   "metadata": {},
   "outputs": [
    {
     "data": {
      "text/plain": [
       "True"
      ]
     },
     "execution_count": 38,
     "metadata": {},
     "output_type": "execute_result"
    }
   ],
   "source": [
    "import os\n",
    "import json\n",
    "import pandas as pd\n",
    "from dotenv import load_dotenv\n",
    "from langchain_openai import ChatOpenAI\n",
    "from sqlalchemy import create_engine\n",
    "from langchain.agents import create_json_agent\n",
    "from langchain_community.tools.json.tool import JsonSpec\n",
    "from langchain_community.agent_toolkits import JsonToolkit\n",
    "\n",
    "load_dotenv(\"../.env\")"
   ]
  },
  {
   "cell_type": "code",
   "execution_count": 39,
   "metadata": {},
   "outputs": [],
   "source": [
    "TABLE_NAME = os.getenv(\"EFORM_TABLE_NAME\")\n",
    "DB_NAME = os.getenv(\"EFORM_DB_NAME\")\n",
    "USER = \"kamalleaf\"  # os.getenv('EFORM_DB_USER')\n",
    "PASS = os.getenv(\"EFORM_DB_PASS\")\n",
    "HOST = os.getenv(\"EFORM_DB_HOST\")\n",
    "GPT_4 = \"gpt-4-1106-preview\"\n",
    "GPT_3 = \"gpt-3.5-turbo-0125\"\n",
    "LLM = ChatOpenAI(temperature=0, model=GPT_4)"
   ]
  },
  {
   "cell_type": "code",
   "execution_count": 40,
   "metadata": {},
   "outputs": [],
   "source": [
    "ENGINE = create_engine(f\"mysql+mysqlconnector://{USER}:{PASS}@{HOST}/{DB_NAME}\")"
   ]
  },
  {
   "cell_type": "code",
   "execution_count": 58,
   "metadata": {},
   "outputs": [],
   "source": [
    "sql_query = pd.read_sql_query(\n",
    "    f\"\"\"\n",
    "        SELECT *\n",
    "        FROM {TABLE_NAME}\n",
    "        WHERE entry_date > '2024-05-10' AND deleted=0 \n",
    "        LIMIT 20\n",
    "    \"\"\",\n",
    "    ENGINE,\n",
    ")"
   ]
  },
  {
   "cell_type": "code",
   "execution_count": 59,
   "metadata": {},
   "outputs": [],
   "source": [
    "json_dicts = {}\n",
    "for group_id, group_df in sql_query.groupby(\"id_group\"):\n",
    "    for _, row in group_df.iterrows():\n",
    "        restricted = row[\"restricted\"]\n",
    "        form_title = row[\"form_title\"].replace(\"/\", \"-\")\n",
    "        entry_date = int(row[\"entry_date\"].timestamp())\n",
    "        json_dict = json.loads(row.to_json())\n",
    "        to_update = json.loads(json_dict.pop(\"data_components\", \"{}\"))\n",
    "        json_dict.update(to_update)\n",
    "        json_name = f\"{form_title}_{group_id}_{entry_date}\"\n",
    "        json_dicts[json_name] = json_dict"
   ]
  },
  {
   "cell_type": "code",
   "execution_count": 60,
   "metadata": {},
   "outputs": [],
   "source": [
    "json_spec = JsonSpec(dict_=json_dicts, max_value_length=10000)\n",
    "json_toolkit = JsonToolkit(spec=json_spec)"
   ]
  },
  {
   "cell_type": "code",
   "execution_count": 68,
   "metadata": {},
   "outputs": [],
   "source": [
    "agent = create_json_agent(\n",
    "    llm=LLM,\n",
    "    toolkit=json_toolkit,\n",
    "    verbose=True,\n",
    "    return_intermediate_steps=True,\n",
    "    handle_parsing_errors=True,\n",
    "    prefix=\"\"\"You are an agent designed to interact with JSON.\n",
    "    Your goal is to return a final answer by interacting with the JSON.\n",
    "    You have access to the following tools which help you learn more about the JSON you are interacting with.\n",
    "    Only use the below tools. Only use the information returned by the below tools to construct your final answer.\n",
    "    Do not make up any information that is not contained in the JSON.\n",
    "    Your input to the tools should be in the form of `data[\"key\"][0]` where `data` is the JSON blob you are interacting with, and the syntax used is Python. \n",
    "    You should only use keys that you know for a fact exist. You must validate that a key exists by seeing it previously when calling `json_spec_list_keys`. \n",
    "    If you have not seen a key in one of those responses, you cannot use it.\n",
    "    You should only add one key at a time to the path. You cannot add multiple keys at once.\n",
    "    If you encounter a \"KeyError\", go back to the previous key, look at the available keys, and try again.\n",
    "\n",
    "    If the question does not seem to be related to the JSON, just return \"I don't know\" as the answer.\n",
    "    Always begin your interaction with the `json_spec_list_keys` tool with input \"data\" to see what keys exist in the JSON.\n",
    "\n",
    "    Note that sometimes the value at a given path is large. In this case, you will get an error \"Value is a large dictionary, should explore its keys directly\".\n",
    "    In this case, you should ALWAYS follow up by using the `json_spec_list_keys` tool to see what keys exist at that path.\n",
    "    Do not simply refer the user to the JSON or a section of the JSON, as this is not a valid answer. Keep digging until you find the answer and explicitly return it.\n",
    "    \n",
    "    Whenever querying for meeting minutes, if the the filename is queried and user doesn't specify any rule, do not return the original filename. Use their subject instead\n",
    "    \"\"\",\n",
    ")"
   ]
  },
  {
   "cell_type": "code",
   "execution_count": 45,
   "metadata": {},
   "outputs": [],
   "source": [
    "# agent.invoke(\"how many meetings are there?\")"
   ]
  },
  {
   "cell_type": "code",
   "execution_count": 46,
   "metadata": {},
   "outputs": [],
   "source": [
    "# agent.invoke(\"what are the meetings about?\")"
   ]
  },
  {
   "cell_type": "code",
   "execution_count": 47,
   "metadata": {},
   "outputs": [],
   "source": [
    "# agent.invoke(\"is there any affected area feedback by us\")"
   ]
  },
  {
   "cell_type": "code",
   "execution_count": 48,
   "metadata": {},
   "outputs": [],
   "source": [
    "def pretty_print(json):\n",
    "    for key, val in json.items():\n",
    "        print(key)\n",
    "        print(\"\\t\", val)\n",
    "        print(\"====================================\")"
   ]
  },
  {
   "cell_type": "code",
   "execution_count": 49,
   "metadata": {},
   "outputs": [
    {
     "name": "stdout",
     "output_type": "stream",
     "text": [
      "Whenever user query for a meetings name, do not return the filename. return the meeting minute subject in the json file instead as it's filename\n",
      "\n",
      "json_spec_list_keys: \n",
      "    Can be used to list all keys at a given path. \n",
      "    Before calling this you should be SURE that the path to this exists.\n",
      "    The input is a text representation of the path to the dict in Python syntax (e.g. data[\"key1\"][0][\"key2\"]).\n",
      "    \n",
      "json_spec_get_value: \n",
      "    Can be used to see value in string format at a given path.\n",
      "    Before calling this you should be SURE that the path to this exists.\n",
      "    The input is a text representation of the path to the dict in Python syntax (e.g. data[\"key1\"][0][\"key2\"]).\n",
      "    \n",
      "\n",
      "Use the following format:\n",
      "\n",
      "Question: the input question you must answer\n",
      "Thought: you should always think about what to do\n",
      "Action: the action to take, should be one of [json_spec_list_keys, json_spec_get_value]\n",
      "Action Input: the input to the action\n",
      "Observation: the result of the action\n",
      "... (this Thought/Action/Action Input/Observation can repeat N times)\n",
      "Thought: I now know the final answer\n",
      "Final Answer: the final answer to the original input question\n",
      "\n",
      "Begin!\"\n",
      "\n",
      "Question: {input}\n",
      "Thought: I should look at the keys that exist in data to see what I have access to\n",
      "{agent_scratchpad}\n"
     ]
    }
   ],
   "source": [
    "variables = vars(agent)\n",
    "chain_obj = variables[\"agent\"]\n",
    "chain_vars = vars(chain_obj)\n",
    "llm_obj = vars(chain_vars[\"llm_chain\"])\n",
    "prompt = vars(llm_obj[\"prompt\"])\n",
    "print(prompt[\"template\"])"
   ]
  },
  {
   "cell_type": "code",
   "execution_count": 69,
   "metadata": {},
   "outputs": [
    {
     "name": "stdout",
     "output_type": "stream",
     "text": [
      "\n",
      "\n",
      "\u001b[1m> Entering new AgentExecutor chain...\u001b[0m\n",
      "\u001b[32;1m\u001b[1;3mAction: json_spec_list_keys\n",
      "Action Input: data\u001b[0m\n",
      "Observation: \u001b[36;1m\u001b[1;3m['Vendor Company Registration Form_1_1715685420', 'Vendor Staff Registration Form_1_1715685667', 'Vendor Staff Registration Form_1_1715685770', 'Vendor Staff Registration Form_1_1715685871', 'Vendor Staff Registration Form_1_1715685893', 'Vendor Staff Registration Form_1_1715685917', 'Vendor Staff Registration Form_1_1715768604', 'Walk-in Feedback Form_1_1716268987', 'Walk-in Feedback Form_1_1716269388', 'Unit Owner Registration Form_1_1716269587', 'Meeting Minutes_1_1716271407', 'Meeting Minutes_1_1716953961', 'Meeting Minutes_1_1717038347', 'Meeting Minutes_1_1717139773', 'Checklist_360_1715574634', 'testestset_360_1716892988', 'testestset_360_1716893123', 'testestset_360_1716893197', 'testestset_360_1716974592', 'testestset_360_1716975174']\u001b[0m\n",
      "Thought:\u001b[32;1m\u001b[1;3mThere are keys that seem to be related to meeting minutes. I should get the values for these keys to find out the subjects of the meetings.\n",
      "Action: json_spec_get_value\n",
      "Action Input: data[\"Meeting Minutes_1_1716271407\"]\u001b[0m\n",
      "Observation: \u001b[33;1m\u001b[1;3m{'id_digital_form_io_submission': 111, 'id_digital_form_io': 131, 'form_name': 'kx2gNVqm', 'id_user': 161620, 'id_group': 1, 'for_custom_id': 0, 'for_custom_table': None, 'restricted': 1, 'form_title': 'Meeting Minutes', 'entry_date': 1716271407000, 'last_submit_date': 1716271407000, 'notes': '', 'status': 0, 'deleted': 0, 'comment': None, 'approved_comment': None, 'deleted_reason': None, 'rejected_reason': None, 'digital_signature': None, 'ta_PropertyNameAndDetails': 'THE ONE CONDO\\nTingkat 17, Menara TH Perdana, 1001, Jln Sultan Ismail, 50250 Kuala Lumpur, Federal Territory of Kuala Lumpur', 'tf_MeetingMinuteSubject': 'JMB Meeting', 'dt_DateandTimeOfMeetingMinute': '2024-05-21T12:00:00+08:00', 'tf_JointManagementCommitteeMember': 'Lee', 'tf_InitialName': 'Lee', 'tf_CommitteeUnitNo': 'T-04-04', 'sel_MemberDesignation': 'chairman', 'tf_MeetingAttendance': '1/1', 'tf_JointManagementCommitteeMember1': 'Tan', 'tf_InitialName1': 'Tan', 'tf_CommitteeUnitNo1': 'T-05-05', 'sel_MemberDesignation1': 'secretary', 'tf_MeetingAttendance1': '1/1', 'tf_JointManagementCommitteeMember2': 'Wong', 'tf_InitialName2': 'Wong', 'tf_CommitteeUnitNo2': 'T-06-06', 'sel_MemberDesignation2': 'treasurer', 'tf_MeetingAttendance2': '1/1', 'tf_JointManagementCommitteeMember3': 'Teow', 'tf_InitialName3': 'Teow', 'tf_CommitteeUnitNo3': 'T-08-08', 'sel_MemberDesignation3': 'committee', 'tf_MeetingAttendance3': '1/1', 'tf_JointManagementCommitteeMember4': 'Lai', 'tf_InitialName4': 'Lai', 'tf_CommitteeUnitNo4': 'T-11-11', 'sel_MemberDesignation4': 'developerRepresentative', 'tf_MeetingAttendance4': '1/1', 'tf_JointManagementCommitteeMember5': 'Chong', 'tf_InitialName5': 'Chong', 'tf_CommitteeUnitNo5': 'T-12-12', 'sel_MemberDesignation5': 'committee', 'tf_MeetingAttendance5': '1/1', 'Adduserrow2': True, 'Remove3': True, 'NumberOfRows': 4, 'tf_PropertyManagementMember': 'Chia', 'tf_PropertyManagementMemberInitial': 'Chia', 'sel_PropertyManagementMemberDesignation': 'seniorPropertyManager', 'tf_PropertyManagementMemberAttendance': '1/1', 'tf_PropertyManagementMember1': 'Chan', 'tf_PropertyManagementMemberInitial1': 'Chan', 'sel_PropertyManagementMemberDesignation1': 'buildingManager', 'tf_PropertyManagementMemberAttendance1': '1/1', 'tf_PropertyManagementMember2': 'Yap', 'tf_PropertyManagementMemberInitial2': 'Yap', 'sel_PropertyManagementMemberDesignation2': 'accountManager', 'tf_PropertyManagementMemberAttendance2': '1/1', 'tf_PropertyManagementMember3': 'Yeap', 'tf_PropertyManagementMemberInitial3': 'Yeap', 'sel_PropertyManagementMemberDesignation3': 'buildingExecutive', 'tf_PropertyManagementMemberAttendance3': '1/1', 'tf_PropertyManagementMember4': 'Lin', 'textField41': 'Lin', 'sel_PropertyManagementMemberDesignation4': 'accountExecutive', 'tf_PropertyManagementMemberAttendance4': '1/1', 'NumberOfPM': 0, 'Adduserrow1': True, 'Remove2': True, 'ta_MeetingAnnouncement': 'Approval of Previous Minutes:\\n\\nThe minutes from the April 15, 2024 meeting were approved without amendments.', 'ta_ActionBy': 'Info', 'textArea2': '', 'ta_MeetingAnnouncement1': 'Project Updates:\\n\\nProject Alpha: Lin reported that the project is on schedule, with the next milestone expected to be completed by June 1.\\nProject Beta: Yeap mentioned some delays due to supply chain issues, but a new supplier has been secured.', 'ta_ActionBy1': 'Lin to report the order Schedule', 'ta_ActionToBeTaken2': '', 'ta_MeetingAnnouncement3': '\\nSample Meeting Minutes\\nDate: May 20, 2024\\nTime: 10:00 AM - 11:30 AM\\nLocation: Conference Room A\\n\\nAttendees:\\n\\nJohn Smith (Chair)\\nJane Doe\\nMary Johnson\\nRobert Brown\\nEmily Davis (Minutes)\\nAgenda:\\n\\nApproval of Previous Minutes\\nProject Updates\\nBudget Review\\nNew Business\\nNext Meeting Date\\n1. Approval of Previous Minutes:\\n\\nThe minutes from the April 15, 2024 meeting were approved without amendments.\\n2. Project Updates:\\n\\nProject Alpha: Mary reported that the project is on schedule, with the next milestone expected to be completed by June 1.\\nProject Beta: Robert mentioned some delays due to supply chain issues, but a new supplier has been secured.\\nBudget Review:\\n\\nLin presented the current budget status. The team discussed reallocating funds to address the unexpected costs in Project Beta. A proposal will be prepared for the next meeting.', 'ta_ActionBy3': 'Lin to prepare proposal', 'ta_ActionToBeTaken3': '', 'ta_MeetingAnnouncement4': 'New Business:\\n\\nTeam Building Activity: Chan suggested organizing a team-building retreat. Lin will look into potential dates and venues.\\nSoftware Upgrade: yeap proposed upgrading the project management software. The team agreed to evaluate options and discuss further in the next meeting.', 'ta_ActionBy4': 'Yeap to followup with tthe upgrading project management software', 'ta_ActionToBeTaken4': '', 'ta_MeetingAnnouncement5': 'Next Meeting Date:\\n\\nThe next meeting is scheduled for June 17, 2024, at 10:00 AM in Conference Room A.', 'ta_ActionBy5': 'Info', 'ta_ActionToBeTaken5': '', 'ta_MeetingAnnouncement6': 'Adjournment:\\n\\nThe meeting was adjourned at 11:30 AM.', 'ta_ActionBy6': '', 'ta_ActionToBeTaken6': '', 'ta_MeetingAnnouncement7': '', 'ta_ActionBy7': '', 'ta_ActionToBeTaken7': '', 'NumberofAgenda': 0, 'Adduserrow3': False, 'Remove4': False, 'submit': True, 'FormTitle': 'Meeting record for all meeting minutes that related to JMB Management orJMB', 'FormDescription': 'Meeting record for all meeting minutes that related to JMB Management orJMB', 'tf_JointManagementCommitteeMember6': '', 'tf_InitialName6': '', 'tf_CommitteeUnitNo6': '', 'sel_MemberDesignation6': '', 'tf_MeetingAttendance6': '', 'tf_JointManagementCommitteeMember7': '', 'tf_InitialName7': '', 'tf_CommitteeUnitNo7': '', 'sel_MemberDesignation7': '', 'tf_MeetingAttendance7': '', 'tf_JointManagementCommitteeMember8': '', 'tf_InitialName8': '', 'tf_CommitteeUnitNo8': '', 'sel_MemberDesignation8': '', 'tf_MeetingAttendance8': '', 'tf_JointManagementCommitteeMember9': '', 'tf_InitialName9': '', 'tf_CommitteeUnitNo9': '', 'sel_MemberDesignation9': '', 'tf_MeetingAttendance9': ''}\u001b[0m\n",
      "Thought:\u001b[32;1m\u001b[1;3mI have found the subject of the first meeting minutes entry, which is \"JMB Meeting\". I should now repeat the process for the remaining meeting minutes entries to find their subjects.\n",
      "Action: json_spec_get_value\n",
      "Action Input: data[\"Meeting Minutes_1_1716953961\"]\u001b[0m\n",
      "Observation: \u001b[33;1m\u001b[1;3m{'id_digital_form_io_submission': 115, 'id_digital_form_io': 131, 'form_name': 'kx2gNVqm', 'id_user': 29741, 'id_group': 1, 'for_custom_id': 0, 'for_custom_table': None, 'restricted': 1, 'form_title': 'Meeting Minutes', 'entry_date': 1716953961000, 'last_submit_date': 1716978022000, 'notes': '', 'status': 0, 'deleted': 0, 'comment': None, 'approved_comment': None, 'deleted_reason': None, 'rejected_reason': None, 'digital_signature': None, 'ta_PropertyNameAndDetails': 'THE TWO CONDO\\nTingkat 18, Menara TH Perdana, 1001, Jln Sultan Ismail, 50250 Kuala Lumpur, Federal Territory of Kuala Lumpur', 'tf_MeetingMinuteSubject': 'LEAF Meeting', 'dt_DateandTimeOfMeetingMinute': '2024-05-24T12:00:00+08:00', 'tf_JointManagementCommitteeMember': 'john', 'tf_InitialName': 'mr', 'tf_CommitteeUnitNo': 'T-04-04', 'sel_MemberDesignation': 'chairman', 'tf_MeetingAttendance': '1/1', 'tf_JointManagementCommitteeMember1': 'Moi', 'tf_InitialName1': 'mr', 'tf_CommitteeUnitNo1': 'T-05-05', 'sel_MemberDesignation1': 'treasurer', 'tf_MeetingAttendance1': '1/1', 'tf_JointManagementCommitteeMember2': 'Lisa', 'tf_InitialName2': 'ms', 'tf_CommitteeUnitNo2': 'T-06-06', 'sel_MemberDesignation2': 'secretary', 'tf_MeetingAttendance2': '1/1', 'tf_JointManagementCommitteeMember3': 'Lin', 'tf_InitialName3': 'mr', 'tf_CommitteeUnitNo3': 'T-08-08', 'sel_MemberDesignation3': 'treasurer', 'tf_MeetingAttendance3': '1/1', 'tf_JointManagementCommitteeMember4': 'Erno', 'tf_InitialName4': 'ms', 'tf_CommitteeUnitNo4': 'T-11-11', 'sel_MemberDesignation4': 'treasurer', 'tf_MeetingAttendance4': '1/1', 'tf_JointManagementCommitteeMember5': 'Moon', 'tf_InitialName5': 'mr', 'tf_CommitteeUnitNo5': 'T-12-12', 'sel_MemberDesignation5': 'committee', 'tf_MeetingAttendance5': '1/1', 'Adduserrow2': False, 'Remove3': False, 'NumberOfRows': 0, 'tf_PropertyManagementMember': 'woos', 'tf_PropertyManagementMemberInitial': '', 'sel_PropertyManagementMemberDesignation': '', 'tf_PropertyManagementMemberAttendance': '', 'tf_PropertyManagementMember1': 'xander', 'tf_PropertyManagementMemberInitial1': '', 'sel_PropertyManagementMemberDesignation1': '', 'tf_PropertyManagementMemberAttendance1': '', 'tf_PropertyManagementMember2': 'wukong', 'tf_PropertyManagementMemberInitial2': '', 'sel_PropertyManagementMemberDesignation2': '', 'tf_PropertyManagementMemberAttendance2': '', 'tf_PropertyManagementMember3': '', 'tf_PropertyManagementMemberInitial3': '', 'sel_PropertyManagementMemberDesignation3': '', 'tf_PropertyManagementMemberAttendance3': '', 'tf_PropertyManagementMember4': '', 'textField41': '', 'sel_PropertyManagementMemberDesignation4': '', 'tf_PropertyManagementMemberAttendance4': '', 'NumberOfPM': 0, 'Adduserrow1': False, 'Remove2': False, 'ta_MeetingAnnouncement': 'Approval of Previous Minutes:\\n\\nThe minutes from the May 24, 2024 meeting were approved without amendments.', 'ta_ActionBy': 'Info', 'textArea2': '', 'ta_MeetingAnnouncement1': 'Project Updates:\\n\\nProject Alpha: Lin reported that the project is on schedule, with the next milestone expected to be completed by June 1.\\nProject Beta: Yeap mentioned some delays due to supply chain issues, but a new supplier has been secured.', 'ta_ActionBy1': 'Info', 'ta_ActionToBeTaken2': '', 'ta_MeetingAnnouncement3': 'Adjournment:\\n\\nThe meeting was adjourned at 11:30 AM.', 'ta_ActionBy3': 'Info', 'ta_ActionToBeTaken3': '', 'ta_MeetingAnnouncement4': 'Asset Management:\\n\\nMaintenance Activity: swimming pool maintenance needed for June 15, 2024, at 10:00 AM', 'ta_ActionBy4': 'Info', 'ta_ActionToBeTaken4': '', 'ta_MeetingAnnouncement5': 'Next Meeting Date:\\n\\nThe next meeting is scheduled for June 17, 2024, at 10:00 AM in Conference Room A.', 'ta_ActionBy5': 'Info', 'ta_ActionToBeTaken5': '', 'ta_MeetingAnnouncement6': '', 'ta_ActionBy6': '', 'ta_ActionToBeTaken6': '', 'ta_MeetingAnnouncement7': '', 'ta_ActionBy7': '', 'ta_ActionToBeTaken7': '', 'NumberofAgenda': 0, 'Adduserrow3': False, 'Remove4': False, 'submit': True, 'FormTitle': 'Meeting record for all meeting minutes that related to JMB Management orJMB', 'FormDescription': 'Meeting record for all meeting minutes that related to JMB Management orJMB'}\u001b[0m\n",
      "Thought:\u001b[32;1m\u001b[1;3mI have found the subject of the second meeting minutes entry, which is \"LEAF Meeting\". I should continue this process for the remaining meeting minutes entries to find their subjects.\n",
      "\n",
      "Action: json_spec_get_value\n",
      "Action Input: data[\"Meeting Minutes_1_1717038347\"]\u001b[0m\n",
      "Observation: \u001b[33;1m\u001b[1;3m{'id_digital_form_io_submission': 118, 'id_digital_form_io': 131, 'form_name': 'kx2gNVqm', 'id_user': 161620, 'id_group': 1, 'for_custom_id': 0, 'for_custom_table': None, 'restricted': 1, 'form_title': 'Meeting Minutes', 'entry_date': 1717038347000, 'last_submit_date': 1717038410000, 'notes': '', 'status': 0, 'deleted': 0, 'comment': None, 'approved_comment': None, 'deleted_reason': None, 'rejected_reason': None, 'digital_signature': None, 'ta_PropertyNameAndDetails': 'The Leaf Condominium', 'tf_MeetingMinuteSubject': 'MC Meeting No.10', 'dt_DateandTimeOfMeetingMinute': '2024-05-17T12:00:00+08:00', 'tf_JointManagementCommitteeMember': 'Lee Sian Lee', 'tf_InitialName': 'LSL', 'tf_CommitteeUnitNo': 'T-04-04', 'sel_MemberDesignation': 'chairman', 'tf_MeetingAttendance': '1/1', 'tf_JointManagementCommitteeMember1': 'Tan Kim Seng', 'tf_InitialName1': 'TKS', 'tf_CommitteeUnitNo1': 'T-05-05', 'sel_MemberDesignation1': 'secretary', 'tf_MeetingAttendance1': '1/1', 'tf_JointManagementCommitteeMember2': 'Wong Wei Kang', 'tf_InitialName2': 'WWK', 'tf_CommitteeUnitNo2': 'T-06-06', 'sel_MemberDesignation2': 'treasurer', 'tf_MeetingAttendance2': '1/1', 'tf_JointManagementCommitteeMember3': 'Teow Wei Yoong', 'tf_InitialName3': 'TWY', 'tf_CommitteeUnitNo3': 'T-08-08', 'sel_MemberDesignation3': 'committee', 'tf_MeetingAttendance3': '1/1', 'tf_JointManagementCommitteeMember4': 'Lai Choon Fai', 'tf_InitialName4': 'LCF', 'tf_CommitteeUnitNo4': 'T-11-11', 'sel_MemberDesignation4': 'developerRepresentative', 'tf_MeetingAttendance4': '1/1', 'tf_JointManagementCommitteeMember5': 'Chong Ken Yung', 'tf_InitialName5': 'CKY', 'tf_CommitteeUnitNo5': 'T-12-12', 'sel_MemberDesignation5': 'developerRepresentative', 'tf_MeetingAttendance5': '1/1', 'Adduserrow2': False, 'Remove3': False, 'NumberOfRows': 0, 'tf_PropertyManagementMember': 'Chia Wei Ping', 'tf_PropertyManagementMemberInitial': 'CWP', 'sel_PropertyManagementMemberDesignation': 'seniorPropertyManager', 'tf_PropertyManagementMemberAttendance': '1/1', 'tf_PropertyManagementMember1': 'Chan Rong Bang', 'tf_PropertyManagementMemberInitial1': 'CRB', 'sel_PropertyManagementMemberDesignation1': 'buildingManager', 'tf_PropertyManagementMemberAttendance1': '1/1', 'tf_PropertyManagementMember2': 'Yap Sin Yee', 'tf_PropertyManagementMemberInitial2': 'YSY', 'sel_PropertyManagementMemberDesignation2': 'accountManager', 'tf_PropertyManagementMemberAttendance2': '1/1', 'tf_PropertyManagementMember3': 'Thomas Yeap', 'tf_PropertyManagementMemberInitial3': 'TY', 'sel_PropertyManagementMemberDesignation3': 'buildingExecutive', 'tf_PropertyManagementMemberAttendance3': '1/1', 'tf_PropertyManagementMember4': 'Jacky Ling', 'textField41': 'JL', 'sel_PropertyManagementMemberDesignation4': 'accountExecutive', 'tf_PropertyManagementMemberAttendance4': '1/1', 'NumberOfPM': 0, 'Adduserrow1': False, 'Remove2': False, 'ta_MeetingAnnouncement': 'Approval of Previous Minutes:\\n\\nThe minutes from the May 24, 2024 meeting were approved without amendments.', 'ta_ActionBy': 'Info', 'textArea2': '', 'ta_MeetingAnnouncement1': 'Project Updates:\\n\\nProject Alpha: CRB reported that the project is on schedule, with the next milestone expected to be completed by July 1.\\nProject Beta: TY mentioned some delays due to supply chain issues, but a new supplier has been secured.', 'ta_ActionBy1': 'Info', 'ta_ActionToBeTaken2': '', 'ta_MeetingAnnouncement3': 'Adjournment:\\n\\nThe meeting was adjourned at 11:30 AM.', 'ta_ActionBy3': 'Info', 'ta_ActionToBeTaken3': '', 'ta_MeetingAnnouncement4': 'New Business:\\n\\nTeam Building Activity: CRB suggested organizing a team-building retreat. JL will look into potential dates and venues.\\nSoftware Upgrade: TY proposed upgrading the project management software. The team agreed to evaluate options and discuss further in the next meeting.', 'ta_ActionBy4': 'JL to propose date and venue', 'ta_ActionToBeTaken4': '', 'ta_MeetingAnnouncement5': \"Seeking for  Approval to replace faulty swimming pool water pump \\n\\nCRB reported that the swimming pool at Level 5's water pump is not functioning, after the service provider check and their checking result was the water pump rusted and cannot be repair, their suggestion is we change a new water pump.\\nThe new pump will cost RM 2500 per pump and have a 5 years warranty.\\n\\nCommittee agreed to purchase a new pump and the team can proceed to the PO and payment.\", 'ta_ActionBy5': 'PO to be issued by TY', 'ta_ActionToBeTaken5': '', 'ta_MeetingAnnouncement6': 'Next Meeting Date:\\n\\nThe next meeting is scheduled for August 17, 2024, at 10:00 AM in Conference Room A.', 'ta_ActionBy6': 'Info', 'ta_ActionToBeTaken6': '', 'ta_MeetingAnnouncement7': '', 'ta_ActionBy7': '', 'ta_ActionToBeTaken7': '', 'NumberofAgenda': 0, 'Adduserrow3': False, 'Remove4': False, 'submit': True, 'FormTitle': 'Meeting record for all meeting minutes that related to JMB Management orJMB', 'FormDescription': 'Meeting record for all meeting minutes that related to JMB Management orJMB'}\u001b[0m\n",
      "Thought:\u001b[32;1m\u001b[1;3mI have found the subject of the third meeting minutes entry, which is \"MC Meeting No.10\". I should continue this process for the remaining meeting minutes entries to find their subjects.\n",
      "\n",
      "Action: json_spec_get_value\n",
      "Action Input: data[\"Meeting Minutes_1_1717139773\"]\u001b[0m\n",
      "Observation: \u001b[33;1m\u001b[1;3m{'id_digital_form_io_submission': 119, 'id_digital_form_io': 131, 'form_name': 'kx2gNVqm', 'id_user': 29741, 'id_group': 1, 'for_custom_id': 0, 'for_custom_table': None, 'restricted': 1, 'form_title': 'Meeting Minutes', 'entry_date': 1717139773000, 'last_submit_date': 1717139773000, 'notes': '', 'status': 0, 'deleted': 0, 'comment': None, 'approved_comment': None, 'deleted_reason': None, 'rejected_reason': None, 'digital_signature': None, 'ta_PropertyNameAndDetails': 'THE TREE CONDO\\nTingkat 18, Menara TH Perdana, 1001, Jln Sultan Ismail, 50250 Kuala Lumpur, Federal Territory of Kuala Lumpur', 'tf_MeetingMinuteSubject': 'LEAF Meeting', 'dt_DateandTimeOfMeetingMinute': '2024-05-25T12:00:00+08:00', 'tf_JointManagementCommitteeMember': 'johnny', 'tf_InitialName': 'mr', 'tf_CommitteeUnitNo': '101', 'sel_MemberDesignation': 'secretary', 'tf_MeetingAttendance': '1/1', 'tf_JointManagementCommitteeMember1': 'joe', 'tf_InitialName1': 'mr', 'tf_CommitteeUnitNo1': '102', 'sel_MemberDesignation1': 'treasurer', 'tf_MeetingAttendance1': '1/1', 'tf_JointManagementCommitteeMember2': 'rang', 'tf_InitialName2': 'mrs', 'tf_CommitteeUnitNo2': '103', 'sel_MemberDesignation2': 'chairman', 'tf_MeetingAttendance2': '1/1', 'tf_JointManagementCommitteeMember3': '', 'tf_InitialName3': '', 'tf_CommitteeUnitNo3': '', 'sel_MemberDesignation3': '', 'tf_MeetingAttendance3': '', 'tf_JointManagementCommitteeMember4': '', 'tf_InitialName4': '', 'tf_CommitteeUnitNo4': '', 'sel_MemberDesignation4': '', 'tf_MeetingAttendance4': '', 'tf_JointManagementCommitteeMember5': '', 'tf_InitialName5': '', 'tf_CommitteeUnitNo5': '', 'sel_MemberDesignation5': '', 'tf_MeetingAttendance5': '', 'Adduserrow2': False, 'Remove3': False, 'NumberOfRows': 0, 'tf_PropertyManagementMember': '', 'tf_PropertyManagementMemberInitial': '', 'sel_PropertyManagementMemberDesignation': '', 'tf_PropertyManagementMemberAttendance': '', 'tf_PropertyManagementMember1': '', 'tf_PropertyManagementMemberInitial1': '', 'sel_PropertyManagementMemberDesignation1': '', 'tf_PropertyManagementMemberAttendance1': '', 'tf_PropertyManagementMember2': '', 'tf_PropertyManagementMemberInitial2': '', 'sel_PropertyManagementMemberDesignation2': '', 'tf_PropertyManagementMemberAttendance2': '', 'tf_PropertyManagementMember3': '', 'tf_PropertyManagementMemberInitial3': '', 'sel_PropertyManagementMemberDesignation3': '', 'tf_PropertyManagementMemberAttendance3': '', 'tf_PropertyManagementMember4': '', 'textField41': '', 'sel_PropertyManagementMemberDesignation4': '', 'tf_PropertyManagementMemberAttendance4': '', 'NumberOfPM': 0, 'Adduserrow1': False, 'Remove2': False, 'ta_MeetingAnnouncement': 'Approval of Previous Minutes:\\n\\nThe minutes from the May 24, 2024 meeting were approved without amendments.', 'ta_ActionBy': '', 'textArea2': '', 'ta_MeetingAnnouncement1': '', 'ta_ActionBy1': '', 'ta_ActionToBeTaken2': '', 'ta_MeetingAnnouncement3': '', 'ta_ActionBy3': '', 'ta_ActionToBeTaken3': '', 'ta_MeetingAnnouncement4': '', 'ta_ActionBy4': '', 'ta_ActionToBeTaken4': '', 'ta_MeetingAnnouncement5': '', 'ta_ActionBy5': '', 'ta_ActionToBeTaken5': '', 'ta_MeetingAnnouncement6': '', 'ta_ActionBy6': '', 'ta_ActionToBeTaken6': '', 'ta_MeetingAnnouncement7': '', 'ta_ActionBy7': '', 'ta_ActionToBeTaken7': '', 'NumberofAgenda': 0, 'Adduserrow3': False, 'Remove4': False, 'submit': True, 'FormTitle': 'Meeting record for all meeting minutes that related to JMB Management orJMB', 'FormDescription': 'Meeting record for all meeting minutes that related to JMB Management orJMB'}\u001b[0m\n",
      "Thought:\u001b[32;1m\u001b[1;3mI have found the subject of the fourth meeting minutes entry, which is also \"LEAF Meeting\". This seems to be a duplicate subject, but it could be a different meeting with the same name. I now have all the subjects of the meeting minutes entries.\n",
      "\n",
      "Final Answer: The subjects of the meeting minutes are:\n",
      "1. JMB Meeting\n",
      "2. LEAF Meeting\n",
      "3. MC Meeting No.10\n",
      "4. LEAF Meeting\u001b[0m\n",
      "\n",
      "\u001b[1m> Finished chain.\u001b[0m\n"
     ]
    },
    {
     "data": {
      "text/plain": [
       "{'input': 'List me all the meeting minutes',\n",
       " 'output': 'The subjects of the meeting minutes are:\\n1. JMB Meeting\\n2. LEAF Meeting\\n3. MC Meeting No.10\\n4. LEAF Meeting'}"
      ]
     },
     "execution_count": 69,
     "metadata": {},
     "output_type": "execute_result"
    },
    {
     "ename": "",
     "evalue": "",
     "output_type": "error",
     "traceback": [
      "\u001b[1;31mThe Kernel crashed while executing code in the current cell or a previous cell. \n",
      "\u001b[1;31mPlease review the code in the cell(s) to identify a possible cause of the failure. \n",
      "\u001b[1;31mClick <a href='https://aka.ms/vscodeJupyterKernelCrash'>here</a> for more info. \n",
      "\u001b[1;31mView Jupyter <a href='command:jupyter.viewOutput'>log</a> for further details."
     ]
    }
   ],
   "source": [
    "agent.invoke(\"List me all the meeting minutes\")"
   ]
  },
  {
   "cell_type": "code",
   "execution_count": 67,
   "metadata": {},
   "outputs": [
    {
     "name": "stdout",
     "output_type": "stream",
     "text": [
      "\n",
      "\n",
      "\u001b[1m> Entering new AgentExecutor chain...\u001b[0m\n",
      "\u001b[32;1m\u001b[1;3mAction: json_spec_list_keys\n",
      "Action Input: data\u001b[0m\n",
      "Observation: \u001b[36;1m\u001b[1;3m['Vendor Company Registration Form_1_1715685420', 'Vendor Staff Registration Form_1_1715685667', 'Vendor Staff Registration Form_1_1715685770', 'Vendor Staff Registration Form_1_1715685871', 'Vendor Staff Registration Form_1_1715685893', 'Vendor Staff Registration Form_1_1715685917', 'Vendor Staff Registration Form_1_1715768604', 'Walk-in Feedback Form_1_1716268987', 'Walk-in Feedback Form_1_1716269388', 'Unit Owner Registration Form_1_1716269587', 'Meeting Minutes_1_1716271407', 'Meeting Minutes_1_1716953961', 'Meeting Minutes_1_1717038347', 'Meeting Minutes_1_1717139773', 'Checklist_360_1715574634', 'testestset_360_1716892988', 'testestset_360_1716893123', 'testestset_360_1716893197', 'testestset_360_1716974592', 'testestset_360_1716975174']\u001b[0m\n",
      "Thought:\u001b[32;1m\u001b[1;3mThere are several \"Meeting Minutes\" files listed in the data. I need to check each of these to find the ones related to LEAF and their meeting dates.\n",
      "Action: json_spec_list_keys\n",
      "Action Input: data[\"Meeting Minutes_1_1716271407\"]\u001b[0m\n",
      "Observation: \u001b[36;1m\u001b[1;3m['id_digital_form_io_submission', 'id_digital_form_io', 'form_name', 'id_user', 'id_group', 'for_custom_id', 'for_custom_table', 'restricted', 'form_title', 'entry_date', 'last_submit_date', 'notes', 'status', 'deleted', 'comment', 'approved_comment', 'deleted_reason', 'rejected_reason', 'digital_signature', 'ta_PropertyNameAndDetails', 'tf_MeetingMinuteSubject', 'dt_DateandTimeOfMeetingMinute', 'tf_JointManagementCommitteeMember', 'tf_InitialName', 'tf_CommitteeUnitNo', 'sel_MemberDesignation', 'tf_MeetingAttendance', 'tf_JointManagementCommitteeMember1', 'tf_InitialName1', 'tf_CommitteeUnitNo1', 'sel_MemberDesignation1', 'tf_MeetingAttendance1', 'tf_JointManagementCommitteeMember2', 'tf_InitialName2', 'tf_CommitteeUnitNo2', 'sel_MemberDesignation2', 'tf_MeetingAttendance2', 'tf_JointManagementCommitteeMember3', 'tf_InitialName3', 'tf_CommitteeUnitNo3', 'sel_MemberDesignation3', 'tf_MeetingAttendance3', 'tf_JointManagementCommitteeMember4', 'tf_InitialName4', 'tf_CommitteeUnitNo4', 'sel_MemberDesignation4', 'tf_MeetingAttendance4', 'tf_JointManagementCommitteeMember5', 'tf_InitialName5', 'tf_CommitteeUnitNo5', 'sel_MemberDesignation5', 'tf_MeetingAttendance5', 'Adduserrow2', 'Remove3', 'NumberOfRows', 'tf_PropertyManagementMember', 'tf_PropertyManagementMemberInitial', 'sel_PropertyManagementMemberDesignation', 'tf_PropertyManagementMemberAttendance', 'tf_PropertyManagementMember1', 'tf_PropertyManagementMemberInitial1', 'sel_PropertyManagementMemberDesignation1', 'tf_PropertyManagementMemberAttendance1', 'tf_PropertyManagementMember2', 'tf_PropertyManagementMemberInitial2', 'sel_PropertyManagementMemberDesignation2', 'tf_PropertyManagementMemberAttendance2', 'tf_PropertyManagementMember3', 'tf_PropertyManagementMemberInitial3', 'sel_PropertyManagementMemberDesignation3', 'tf_PropertyManagementMemberAttendance3', 'tf_PropertyManagementMember4', 'textField41', 'sel_PropertyManagementMemberDesignation4', 'tf_PropertyManagementMemberAttendance4', 'NumberOfPM', 'Adduserrow1', 'Remove2', 'ta_MeetingAnnouncement', 'ta_ActionBy', 'textArea2', 'ta_MeetingAnnouncement1', 'ta_ActionBy1', 'ta_ActionToBeTaken2', 'ta_MeetingAnnouncement3', 'ta_ActionBy3', 'ta_ActionToBeTaken3', 'ta_MeetingAnnouncement4', 'ta_ActionBy4', 'ta_ActionToBeTaken4', 'ta_MeetingAnnouncement5', 'ta_ActionBy5', 'ta_ActionToBeTaken5', 'ta_MeetingAnnouncement6', 'ta_ActionBy6', 'ta_ActionToBeTaken6', 'ta_MeetingAnnouncement7', 'ta_ActionBy7', 'ta_ActionToBeTaken7', 'NumberofAgenda', 'Adduserrow3', 'Remove4', 'submit', 'FormTitle', 'FormDescription', 'tf_JointManagementCommitteeMember6', 'tf_InitialName6', 'tf_CommitteeUnitNo6', 'sel_MemberDesignation6', 'tf_MeetingAttendance6', 'tf_JointManagementCommitteeMember7', 'tf_InitialName7', 'tf_CommitteeUnitNo7', 'sel_MemberDesignation7', 'tf_MeetingAttendance7', 'tf_JointManagementCommitteeMember8', 'tf_InitialName8', 'tf_CommitteeUnitNo8', 'sel_MemberDesignation8', 'tf_MeetingAttendance8', 'tf_JointManagementCommitteeMember9', 'tf_InitialName9', 'tf_CommitteeUnitNo9', 'sel_MemberDesignation9', 'tf_MeetingAttendance9']\u001b[0m\n",
      "Thought:\u001b[32;1m\u001b[1;3mThe key 'tf_MeetingMinuteSubject' seems to be the subject of the meeting minutes, which I should use instead of the filename. The key 'dt_DateandTimeOfMeetingMinute' seems to be the date and time of the meeting. I need to check if the subject contains \"LEAF\" and then get the date and time for those specific meeting minutes.\n",
      "Action: json_spec_get_value\n",
      "Action Input: data[\"Meeting Minutes_1_1716271407\"][\"tf_MeetingMinuteSubject\"]\u001b[0m\n",
      "Observation: \u001b[33;1m\u001b[1;3mJMB Meeting\u001b[0m\n",
      "Thought:\u001b[32;1m\u001b[1;3mThe subject of the first meeting minutes does not contain \"LEAF\". I need to check the next set of meeting minutes for the subject containing \"LEAF\".\n",
      "Action: json_spec_get_value\n",
      "Action Input: data[\"Meeting Minutes_1_1716953961\"][\"tf_MeetingMinuteSubject\"]\u001b[0m\n",
      "Observation: \u001b[33;1m\u001b[1;3mLEAF Meeting\u001b[0m\n",
      "Thought:\u001b[32;1m\u001b[1;3mThe subject of the second meeting minutes contains \"LEAF\". Now I need to get the date and time for this meeting.\n",
      "Action: json_spec_get_value\n",
      "Action Input: data[\"Meeting Minutes_1_1716953961\"][\"dt_DateandTimeOfMeetingMinute\"]\u001b[0m\n",
      "Observation: \u001b[33;1m\u001b[1;3m2024-05-24T12:00:00+08:00\u001b[0m\n",
      "Thought:\u001b[32;1m\u001b[1;3mI have found the date and time for the meeting minutes with the subject \"LEAF\". I should continue to check the remaining meeting minutes to see if there are any more related to LEAF.\n",
      "Action: json_spec_get_value\n",
      "Action Input: data[\"Meeting Minutes_1_1717038347\"][\"tf_MeetingMinuteSubject\"]\u001b[0m\n",
      "Observation: \u001b[33;1m\u001b[1;3mMC Meeting No.10\u001b[0m\n",
      "Thought:\u001b[32;1m\u001b[1;3mThe subject of the third set of meeting minutes does not contain \"LEAF\". I need to check the next set of meeting minutes for the subject containing \"LEAF\".\n",
      "Action: json_spec_get_value\n",
      "Action Input: data[\"Meeting Minutes_1_1717139773\"][\"tf_MeetingMinuteSubject\"]\u001b[0m\n",
      "Observation: \u001b[33;1m\u001b[1;3mLEAF Meeting\u001b[0m\n",
      "Thought:\u001b[32;1m\u001b[1;3mThe subject of the fourth set of meeting minutes contains \"LEAF\". Now I need to get the date and time for this meeting.\n",
      "Action: json_spec_get_value\n",
      "Action Input: data[\"Meeting Minutes_1_1717139773\"][\"dt_DateandTimeOfMeetingMinute\"]\u001b[0m\n",
      "Observation: \u001b[33;1m\u001b[1;3m2024-05-25T12:00:00+08:00\u001b[0m\n",
      "Thought:\u001b[32;1m\u001b[1;3mI have found the date and time for the second meeting minutes with the subject \"LEAF\". I now have the information for two meetings related to LEAF. Since there are no more \"Meeting Minutes\" keys to check, I can compile the final answer.\n",
      "\n",
      "Thought: I now know the final answer\n",
      "Final Answer: There are two meeting minutes related to LEAF:\n",
      "1. Subject: LEAF Meeting, Date and Time: 2024-05-24T12:00:00+08:00\n",
      "2. Subject: LEAF Meeting, Date and Time: 2024-05-25T12:00:00+08:00\u001b[0m\n",
      "\n",
      "\u001b[1m> Finished chain.\u001b[0m\n"
     ]
    },
    {
     "data": {
      "text/plain": [
       "{'input': 'List me all the meeting minutes related to LEAF together with their meeting dates',\n",
       " 'output': 'There are two meeting minutes related to LEAF:\\n1. Subject: LEAF Meeting, Date and Time: 2024-05-24T12:00:00+08:00\\n2. Subject: LEAF Meeting, Date and Time: 2024-05-25T12:00:00+08:00'}"
      ]
     },
     "execution_count": 67,
     "metadata": {},
     "output_type": "execute_result"
    }
   ],
   "source": [
    "# agent.invoke(\n",
    "#     \"List me all the meeting minutes related to LEAF together with their meeting dates\"\n",
    "# )"
   ]
  }
 ],
 "metadata": {
  "kernelspec": {
   "display_name": "leaf-chatbot",
   "language": "python",
   "name": "python3"
  },
  "language_info": {
   "codemirror_mode": {
    "name": "ipython",
    "version": 3
   },
   "file_extension": ".py",
   "mimetype": "text/x-python",
   "name": "python",
   "nbconvert_exporter": "python",
   "pygments_lexer": "ipython3",
   "version": "3.12.3"
  }
 },
 "nbformat": 4,
 "nbformat_minor": 2
}
