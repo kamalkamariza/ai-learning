{
 "cells": [
  {
   "cell_type": "code",
   "execution_count": 7,
   "metadata": {},
   "outputs": [],
   "source": [
    "# https://python.langchain.com/v0.1/docs/guides/productionization/evaluation/string/\n",
    "# https://python.langchain.com/v0.1/docs/guides/productionization/evaluation/string/scoring_eval_chain/\n",
    "\n",
    "\n",
    "# https://python.langchain.com/v0.1/docs/guides/productionization/evaluation/trajectory/trajectory_eval/"
   ]
  },
  {
   "cell_type": "code",
   "execution_count": 8,
   "metadata": {},
   "outputs": [],
   "source": [
    "from dotenv import load_dotenv\n",
    "from langchain_openai import ChatOpenAI\n",
    "from langchain.evaluation import load_evaluator, EvaluatorType"
   ]
  },
  {
   "cell_type": "code",
   "execution_count": 9,
   "metadata": {},
   "outputs": [],
   "source": [
    "load_dotenv(\"../.env\")\n",
    "GPT_4 = \"gpt-4-1106-preview\"\n",
    "GPT_3 = \"gpt-3.5-turbo-0125\""
   ]
  },
  {
   "cell_type": "code",
   "execution_count": 10,
   "metadata": {},
   "outputs": [],
   "source": [
    "evaluator = load_evaluator(\n",
    "    EvaluatorType.LABELED_SCORE_STRING, llm=ChatOpenAI(model=GPT_4), normalize_by=10\n",
    ")"
   ]
  },
  {
   "cell_type": "code",
   "execution_count": 13,
   "metadata": {},
   "outputs": [],
   "source": [
    "eval_result = evaluator.evaluate_strings(\n",
    "    prediction=\"The attendees from the leaf meeting are Lee, Tan, Wong, Teow, Lai, and Chong.\",\n",
    "    reference=\"The attendees for the meeting minute at 2024-05-24 12:00 PM are John, Moi, Lisa, Lin, Erno, and Moon.\",\n",
    "    input=\"who are the attendees from leaf meeting?\",\n",
    ")"
   ]
  },
  {
   "cell_type": "code",
   "execution_count": 16,
   "metadata": {},
   "outputs": [
    {
     "data": {
      "text/plain": [
       "{'reasoning': 'The assistant\\'s response lists a group of individuals as attendees of the \"leaf meeting.\" However, based on the provided \"Ground truth,\" the attendees for the specified meeting are John, Moi, Lisa, Lin, Erno, and Moon. It is possible that the \"leaf meeting\" refers to a different meeting than the one specified in the ground truth, in which case the provided list of attendees by the assistant may be accurate for that particular meeting. However, without additional context to clarify whether \"leaf meeting\" refers to the meeting on 2024-05-24 12:00 PM or a different meeting, it\\'s challenging to evaluate the correctness of the assistant\\'s response.\\n\\nIn terms of relevance, the assistant\\'s answer attempts to address the user\\'s question about meeting attendees, which is relevant to the user\\'s inquiry. However, if we assume that \"leaf meeting\" refers to the meeting mentioned in the ground truth, then the assistant\\'s response is not relevant as it does not list the correct attendees.\\n\\nConcerning depth, the assistant provides a straightforward list of names without additional context or information, which is appropriate for the question asked but does not demonstrate significant depth of thought.\\n\\nOverall, the assistant\\'s response would be helpful and correct if \"leaf meeting\" refers to a different meeting than the one mentioned in the ground truth and if the list of names corresponds to actual attendees of that meeting. However, if \"leaf meeting\" is supposed to refer to the meeting provided in the ground truth, the response would not be helpful, relevant, or correct.\\n\\nRating: [[3]]',\n",
       " 'score': 0.3}"
      ]
     },
     "execution_count": 16,
     "metadata": {},
     "output_type": "execute_result"
    }
   ],
   "source": [
    "eval_result"
   ]
  }
 ],
 "metadata": {
  "kernelspec": {
   "display_name": "leaf-chatbot",
   "language": "python",
   "name": "python3"
  },
  "language_info": {
   "codemirror_mode": {
    "name": "ipython",
    "version": 3
   },
   "file_extension": ".py",
   "mimetype": "text/x-python",
   "name": "python",
   "nbconvert_exporter": "python",
   "pygments_lexer": "ipython3",
   "version": "3.12.3"
  }
 },
 "nbformat": 4,
 "nbformat_minor": 2
}
